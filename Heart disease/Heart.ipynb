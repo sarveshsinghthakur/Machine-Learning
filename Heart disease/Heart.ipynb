{
 "cells": [
  {
   "cell_type": "code",
   "execution_count": null,
   "id": "5da09cf7",
   "metadata": {},
   "outputs": [],
   "source": [
    "import pandas as pd\n",
    "import seaborn as sns\n",
    "from xgboost import XGBClassifier\n",
    "import matplotlib.pyplot as plt\n",
    "from sklearn.model_selection import train_test_split\n",
    "from sklearn.ensemble import RandomForestClassifier\n",
    "from sklearn.preprocessing import StandardScaler\n",
    "from sklearn.svm import SVC\n",
    "from sklearn.neighbors import KNeighborsClassifier\n",
    "from sklearn.metrics import accuracy_score,classification_report,confusion_matrix"
   ]
  },
  {
   "cell_type": "code",
   "execution_count": 4,
   "id": "013d6e05",
   "metadata": {},
   "outputs": [
    {
     "data": {
      "text/html": [
       "<div>\n",
       "<style scoped>\n",
       "    .dataframe tbody tr th:only-of-type {\n",
       "        vertical-align: middle;\n",
       "    }\n",
       "\n",
       "    .dataframe tbody tr th {\n",
       "        vertical-align: top;\n",
       "    }\n",
       "\n",
       "    .dataframe thead th {\n",
       "        text-align: right;\n",
       "    }\n",
       "</style>\n",
       "<table border=\"1\" class=\"dataframe\">\n",
       "  <thead>\n",
       "    <tr style=\"text-align: right;\">\n",
       "      <th></th>\n",
       "      <th>age</th>\n",
       "      <th>sex</th>\n",
       "      <th>cp</th>\n",
       "      <th>trestbps</th>\n",
       "      <th>chol</th>\n",
       "      <th>fbs</th>\n",
       "      <th>restecg</th>\n",
       "      <th>thalach</th>\n",
       "      <th>exang</th>\n",
       "      <th>oldpeak</th>\n",
       "      <th>slope</th>\n",
       "      <th>ca</th>\n",
       "      <th>thal</th>\n",
       "      <th>target</th>\n",
       "    </tr>\n",
       "  </thead>\n",
       "  <tbody>\n",
       "    <tr>\n",
       "      <th>0</th>\n",
       "      <td>63</td>\n",
       "      <td>1</td>\n",
       "      <td>3</td>\n",
       "      <td>145</td>\n",
       "      <td>233</td>\n",
       "      <td>1</td>\n",
       "      <td>0</td>\n",
       "      <td>150</td>\n",
       "      <td>0</td>\n",
       "      <td>2.3</td>\n",
       "      <td>0</td>\n",
       "      <td>0</td>\n",
       "      <td>1</td>\n",
       "      <td>1</td>\n",
       "    </tr>\n",
       "    <tr>\n",
       "      <th>1</th>\n",
       "      <td>37</td>\n",
       "      <td>1</td>\n",
       "      <td>2</td>\n",
       "      <td>130</td>\n",
       "      <td>250</td>\n",
       "      <td>0</td>\n",
       "      <td>1</td>\n",
       "      <td>187</td>\n",
       "      <td>0</td>\n",
       "      <td>3.5</td>\n",
       "      <td>0</td>\n",
       "      <td>0</td>\n",
       "      <td>2</td>\n",
       "      <td>1</td>\n",
       "    </tr>\n",
       "    <tr>\n",
       "      <th>2</th>\n",
       "      <td>41</td>\n",
       "      <td>0</td>\n",
       "      <td>1</td>\n",
       "      <td>130</td>\n",
       "      <td>204</td>\n",
       "      <td>0</td>\n",
       "      <td>0</td>\n",
       "      <td>172</td>\n",
       "      <td>0</td>\n",
       "      <td>1.4</td>\n",
       "      <td>2</td>\n",
       "      <td>0</td>\n",
       "      <td>2</td>\n",
       "      <td>1</td>\n",
       "    </tr>\n",
       "    <tr>\n",
       "      <th>3</th>\n",
       "      <td>56</td>\n",
       "      <td>1</td>\n",
       "      <td>1</td>\n",
       "      <td>120</td>\n",
       "      <td>236</td>\n",
       "      <td>0</td>\n",
       "      <td>1</td>\n",
       "      <td>178</td>\n",
       "      <td>0</td>\n",
       "      <td>0.8</td>\n",
       "      <td>2</td>\n",
       "      <td>0</td>\n",
       "      <td>2</td>\n",
       "      <td>1</td>\n",
       "    </tr>\n",
       "    <tr>\n",
       "      <th>4</th>\n",
       "      <td>57</td>\n",
       "      <td>0</td>\n",
       "      <td>0</td>\n",
       "      <td>120</td>\n",
       "      <td>354</td>\n",
       "      <td>0</td>\n",
       "      <td>1</td>\n",
       "      <td>163</td>\n",
       "      <td>1</td>\n",
       "      <td>0.6</td>\n",
       "      <td>2</td>\n",
       "      <td>0</td>\n",
       "      <td>2</td>\n",
       "      <td>1</td>\n",
       "    </tr>\n",
       "  </tbody>\n",
       "</table>\n",
       "</div>"
      ],
      "text/plain": [
       "   age  sex  cp  trestbps  chol  fbs  restecg  thalach  exang  oldpeak  slope  \\\n",
       "0   63    1   3       145   233    1        0      150      0      2.3      0   \n",
       "1   37    1   2       130   250    0        1      187      0      3.5      0   \n",
       "2   41    0   1       130   204    0        0      172      0      1.4      2   \n",
       "3   56    1   1       120   236    0        1      178      0      0.8      2   \n",
       "4   57    0   0       120   354    0        1      163      1      0.6      2   \n",
       "\n",
       "   ca  thal  target  \n",
       "0   0     1       1  \n",
       "1   0     2       1  \n",
       "2   0     2       1  \n",
       "3   0     2       1  \n",
       "4   0     2       1  "
      ]
     },
     "execution_count": 4,
     "metadata": {},
     "output_type": "execute_result"
    }
   ],
   "source": [
    "df = pd.read_csv('Dataset/heart_disease_data.csv')\n",
    "df.head()\n"
   ]
  },
  {
   "cell_type": "code",
   "execution_count": 5,
   "id": "8250c961",
   "metadata": {},
   "outputs": [],
   "source": [
    "x = df.drop(columns='target',axis=1)\n",
    "y = df['target']"
   ]
  },
  {
   "cell_type": "code",
   "execution_count": 6,
   "id": "7a6e3b37",
   "metadata": {},
   "outputs": [],
   "source": [
    "x_train,x_test,y_train,y_test=train_test_split(x,y,test_size=0.2,random_state=42)"
   ]
  },
  {
   "cell_type": "code",
   "execution_count": 12,
   "id": "7ae2d1bf",
   "metadata": {},
   "outputs": [
    {
     "name": "stdout",
     "output_type": "stream",
     "text": [
      "accuracy_score on training data:  1.0\n",
      "accuracy_score on test data:  0.8524590163934426\n",
      "classification report on training data:              precision    recall  f1-score   support\n",
      "\n",
      "           0       1.00      1.00      1.00       109\n",
      "           1       1.00      1.00      1.00       133\n",
      "\n",
      "    accuracy                           1.00       242\n",
      "   macro avg       1.00      1.00      1.00       242\n",
      "weighted avg       1.00      1.00      1.00       242\n",
      "\n",
      "classification report on training data:              precision    recall  f1-score   support\n",
      "\n",
      "           0       0.86      0.83      0.84        29\n",
      "           1       0.85      0.88      0.86        32\n",
      "\n",
      "    accuracy                           0.85        61\n",
      "   macro avg       0.85      0.85      0.85        61\n",
      "weighted avg       0.85      0.85      0.85        61\n",
      "\n"
     ]
    }
   ],
   "source": [
    "#Model 1 : RandomForestClassifier\n",
    "rf = RandomForestClassifier()\n",
    "rf.fit(x_train,y_train)\n",
    "y_train_pred = rf.predict(x_train)\n",
    "y_test_pred = rf.predict(x_test)\n",
    "print(f\"accuracy_score on training data:  {accuracy_score(y_train,y_train_pred)}\")\n",
    "print(f\"accuracy_score on test data:  {accuracy_score(y_test,y_test_pred)}\")\n",
    "print(f\"classification report on training data:{classification_report(y_train,y_train_pred)}\")\n",
    "print(f\"classification report on training data:{classification_report(y_test,y_test_pred)}\")"
   ]
  },
  {
   "cell_type": "code",
   "execution_count": null,
   "id": "fdd894af",
   "metadata": {},
   "outputs": [
    {
     "data": {
      "image/png": "[encoded data removed]",
      "text/plain": [
       "<Figure size 640x480 with 2 Axes>"
      ]
     },
     "metadata": {},
     "output_type": "display_data"
    }
   ],
   "source": [
    "cm = confusion_matrix(y_test,y_test_pred)\n",
    "plt.Figure(figsize=(10,7))\n",
    "sns.heatmap(cm,annot=True,fmt='d',cmap='Blues',xticklabels=['No Disease', 'Disease'], yticklabels=['Not Disease', 'Disease'])\n",
    "plt.xlabel('Predicted')\n",
    "plt.ylabel('True')\n",
    "plt.show()"
   ]
  },
  {
   "cell_type": "code",
   "execution_count": 35,
   "id": "72141dba",
   "metadata": {},
   "outputs": [
    {
     "name": "stdout",
     "output_type": "stream",
     "text": [
      "1\n"
     ]
    },
    {
     "name": "stderr",
     "output_type": "stream",
     "text": [
      "C:\\Users\\Dell\\AppData\\Local\\Packages\\PythonSoftwareFoundation.Python.3.12_qbz5n2kfra8p0\\LocalCache\\local-packages\\Python312\\site-packages\\sklearn\\utils\\validation.py:2739: UserWarning: X does not have valid feature names, but RandomForestClassifier was fitted with feature names\n",
      "  warnings.warn(\n"
     ]
    }
   ],
   "source": [
    "#Testing the Model 1\n",
    "a = [100\t,0,\t7\t,90\t,133\t,1\t,0\t,450\t,1\t,8.3\t,0\t,0\t,1]\n",
    "y_set = rf.predict([a])\n",
    "print(y_set[0])"
   ]
  },
  {
   "cell_type": "code",
   "execution_count": 15,
   "id": "d6e4675c",
   "metadata": {},
   "outputs": [
    {
     "name": "stdout",
     "output_type": "stream",
     "text": [
      "accuracy_score on training data: 0.8760330578512396\n",
      "accuracy_score on test data: 0.8688524590163934\n",
      "\n",
      " classification report on training data:               precision    recall  f1-score   support\n",
      "\n",
      "           0       0.91      0.81      0.85       109\n",
      "           1       0.86      0.93      0.89       133\n",
      "\n",
      "    accuracy                           0.88       242\n",
      "   macro avg       0.88      0.87      0.87       242\n",
      "weighted avg       0.88      0.88      0.88       242\n",
      "\n",
      "\n",
      " classification report on test data:               precision    recall  f1-score   support\n",
      "\n",
      "           0       0.86      0.86      0.86        29\n",
      "           1       0.88      0.88      0.88        32\n",
      "\n",
      "    accuracy                           0.87        61\n",
      "   macro avg       0.87      0.87      0.87        61\n",
      "weighted avg       0.87      0.87      0.87        61\n",
      "\n"
     ]
    }
   ],
   "source": [
    "# Model 2  : Support vector machine\n",
    "sd = StandardScaler()\n",
    "sd.fit(x)\n",
    "x_fit= sd.transform(x)\n",
    "\n",
    "x_train1,x_test1,y_train1,y_test1=train_test_split(x_fit,y,test_size=0.2,random_state=42)\n",
    "\n",
    "sv = SVC(kernel='linear')\n",
    "sv.fit(x_train1,y_train1)\n",
    "y_train_pred1 = sv.predict(x_train1)\n",
    "y_test_pred1 = sv.predict(x_test1)\n",
    "print(f\"accuracy_score on training data: {accuracy_score(y_train1,y_train_pred1)}\")\n",
    "print(f\"accuracy_score on test data: {accuracy_score(y_test1,y_test_pred1)}\")\n",
    "print(f\"\\n classification report on training data: {classification_report(y_train1,y_train_pred1)}\")\n",
    "print(f\"\\n classification report on test data: {classification_report(y_test1,y_test_pred1)}\")"
   ]
  },
  {
   "cell_type": "code",
   "execution_count": 26,
   "id": "2bec05eb",
   "metadata": {},
   "outputs": [
    {
     "data": {
      "image/png": "[encoded data removed]",
      "text/plain": [
       "<Figure size 640x480 with 2 Axes>"
      ]
     },
     "metadata": {},
     "output_type": "display_data"
    }
   ],
   "source": [
    "cm2 = confusion_matrix(y_test1,y_test_pred1)\n",
    "plt.Figure(figsize=(10,7))\n",
    "sns.heatmap(cm2,annot=True,fmt='d',cmap='Blues',xticklabels=['No Disease', 'Disease'], yticklabels=['Not Disease', 'Disease'])\n",
    "plt.xlabel('Predicted')\n",
    "plt.ylabel('True')\n",
    "plt.show()"
   ]
  },
  {
   "cell_type": "code",
   "execution_count": 36,
   "id": "3fd83bcb",
   "metadata": {},
   "outputs": [
    {
     "name": "stdout",
     "output_type": "stream",
     "text": [
      "1\n"
     ]
    }
   ],
   "source": [
    "#Testing the Model 2\n",
    "a1 = [100\t,0,\t7\t,90\t,133\t,1\t,0\t,450\t,1\t,8.3\t,0\t,0\t,1]\n",
    "y_set2 = sv.predict([a1])\n",
    "print(y_set2[0])"
   ]
  },
  {
   "cell_type": "code",
   "execution_count": 18,
   "id": "fb90389e",
   "metadata": {},
   "outputs": [
    {
     "name": "stdout",
     "output_type": "stream",
     "text": [
      "accuracy_score on training data: 0.8636363636363636\n",
      "accuracy_score on test data: 0.9180327868852459\n",
      "\n",
      " classification report on training data:               precision    recall  f1-score   support\n",
      "\n",
      "           0       0.87      0.82      0.84       109\n",
      "           1       0.86      0.90      0.88       133\n",
      "\n",
      "    accuracy                           0.86       242\n",
      "   macro avg       0.86      0.86      0.86       242\n",
      "weighted avg       0.86      0.86      0.86       242\n",
      "\n",
      "\n",
      " classification report on test data:               precision    recall  f1-score   support\n",
      "\n",
      "           0       0.90      0.93      0.92        29\n",
      "           1       0.94      0.91      0.92        32\n",
      "\n",
      "    accuracy                           0.92        61\n",
      "   macro avg       0.92      0.92      0.92        61\n",
      "weighted avg       0.92      0.92      0.92        61\n",
      "\n"
     ]
    }
   ],
   "source": [
    "#Model 3 : KNN\n",
    "kn = KNeighborsClassifier(n_neighbors=5)\n",
    "kn.fit(x_train1,y_train_pred)\n",
    "y_train_pred2= kn.predict(x_train1)\n",
    "y_test_pred2= kn.predict(x_test1)\n",
    "print(f\"accuracy_score on training data: {accuracy_score(y_train1,y_train_pred2)}\")\n",
    "print(f\"accuracy_score on test data: {accuracy_score(y_test1,y_test_pred2)}\")\n",
    "print(f\"\\n classification report on training data: {classification_report(y_train1,y_train_pred2)}\")\n",
    "print(f\"\\n classification report on test data: {classification_report(y_test1,y_test_pred2)}\")\n"
   ]
  },
  {
   "cell_type": "code",
   "execution_count": 28,
   "id": "0c9cb84c",
   "metadata": {},
   "outputs": [
    {
     "data": {
      "image/png": "[encoded data removed]",
      "text/plain": [
       "<Figure size 640x480 with 2 Axes>"
      ]
     },
     "metadata": {},
     "output_type": "display_data"
    }
   ],
   "source": [
    "cm3 = confusion_matrix(y_test1,y_test_pred2)\n",
    "plt.Figure(figsize=(10,7))\n",
    "sns.heatmap(cm3,annot=True,fmt='d',cmap='Blues',xticklabels=['No Disease', 'Disease'], yticklabels=['Not Disease', 'Disease'])\n",
    "plt.xlabel('Predicted')\n",
    "plt.ylabel('True')\n",
    "plt.show()"
   ]
  },
  {
   "cell_type": "code",
   "execution_count": 37,
   "id": "d9cd9ed2",
   "metadata": {},
   "outputs": [
    {
     "name": "stdout",
     "output_type": "stream",
     "text": [
      "1\n"
     ]
    }
   ],
   "source": [
    "a2 = [100\t,0,\t7\t,90\t,133\t,1\t,0\t,450\t,1\t,8.3\t,0\t,0\t,1]\n",
    "y_set3 = kn.predict([a2])\n",
    "print(y_set3[0])"
   ]
  },
  {
   "cell_type": "code",
   "execution_count": 32,
   "id": "3d2dd4f8",
   "metadata": {},
   "outputs": [
    {
     "name": "stdout",
     "output_type": "stream",
     "text": [
      "accuracy_score on training data:  1.0\n",
      "accuracy_score on test data:  0.819672131147541\n",
      "classification report on training data:              precision    recall  f1-score   support\n",
      "\n",
      "           0       1.00      1.00      1.00       109\n",
      "           1       1.00      1.00      1.00       133\n",
      "\n",
      "    accuracy                           1.00       242\n",
      "   macro avg       1.00      1.00      1.00       242\n",
      "weighted avg       1.00      1.00      1.00       242\n",
      "\n",
      "classification report on training data:              precision    recall  f1-score   support\n",
      "\n",
      "           0       0.78      0.86      0.82        29\n",
      "           1       0.86      0.78      0.82        32\n",
      "\n",
      "    accuracy                           0.82        61\n",
      "   macro avg       0.82      0.82      0.82        61\n",
      "weighted avg       0.82      0.82      0.82        61\n",
      "\n"
     ]
    }
   ],
   "source": [
    "#Model 4 : xgboost\n",
    "xg = XGBClassifier()\n",
    "xg.fit(x_train,y_train)\n",
    "y_train_pred3 = xg.predict(x_train)\n",
    "y_test_pred3 = xg.predict(x_test)\n",
    "print(f\"accuracy_score on training data:  {accuracy_score(y_train,y_train_pred3)}\")\n",
    "print(f\"accuracy_score on test data:  {accuracy_score(y_test,y_test_pred3)}\")\n",
    "print(f\"classification report on training data:{classification_report(y_train,y_train_pred3)}\")\n",
    "print(f\"classification report on training data:{classification_report(y_test,y_test_pred3)}\")"
   ]
  },
  {
   "cell_type": "code",
   "execution_count": 29,
   "id": "360bceec",
   "metadata": {},
   "outputs": [
    {
     "data": {
      "image/png": "[encoded data removed]",
      "text/plain": [
       "<Figure size 640x480 with 2 Axes>"
      ]
     },
     "metadata": {},
     "output_type": "display_data"
    }
   ],
   "source": [
    "cm4 = confusion_matrix(y_test,y_test_pred3)\n",
    "plt.Figure(figsize=(10,7))\n",
    "sns.heatmap(cm4,annot=True,fmt='d',cmap='Blues',xticklabels=['No Disease', 'Disease'], yticklabels=['Not Disease', 'Disease'])\n",
    "plt.xlabel('Predicted')\n",
    "plt.ylabel('True')\n",
    "plt.show()"
   ]
  },
  {
   "cell_type": "code",
   "execution_count": 39,
   "id": "1403d642",
   "metadata": {},
   "outputs": [
    {
     "name": "stdout",
     "output_type": "stream",
     "text": [
      "1\n"
     ]
    }
   ],
   "source": [
    "a3 = [100\t,0,\t7\t,90\t,133\t,1\t,0\t,450\t,1\t,8.3\t,0\t,0\t,1]\n",
    "y_set4 = kn.predict([a3])\n",
    "print(y_set4[0])"
   ]
  }
 ],
 "metadata": {
  "kernelspec": {
   "display_name": "Python 3",
   "language": "python",
   "name": "python3"
  },
  "language_info": {
   "codemirror_mode": {
    "name": "ipython",
    "version": 3
   },
   "file_extension": ".py",
   "mimetype": "text/x-python",
   "name": "python",
   "nbconvert_exporter": "python",
   "pygments_lexer": "ipython3",
   "version": "3.12.10"
  }
 },
 "nbformat": 4,
 "nbformat_minor": 5
}
